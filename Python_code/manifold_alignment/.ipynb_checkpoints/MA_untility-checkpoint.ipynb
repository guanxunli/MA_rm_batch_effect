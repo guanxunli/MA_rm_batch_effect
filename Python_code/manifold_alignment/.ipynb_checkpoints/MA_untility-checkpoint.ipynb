{
 "cells": [
  {
   "cell_type": "code",
   "execution_count": 1,
   "metadata": {},
   "outputs": [],
   "source": [
    "import numpy as np\n",
    "import pandas as pd\n",
    "import MA_untility"
   ]
  },
  {
   "cell_type": "code",
   "execution_count": 7,
   "metadata": {},
   "outputs": [],
   "source": [
    "def manifold_setup(Wx, Wy, Wxy, mu):\n",
    "    Wxy = mu * (Wx.sum() + Wy.sum()) / (2 * Wxy.sum()) * Wxy\n",
    "    W = np.asarray(np.bmat(((Wx, Wxy), (Wxy.T, Wy))))\n",
    "    return laplacian(W)\n",
    "\n",
    "def manifold_decompose(L, d1, d2, num_dims, eps):\n",
    "    vals, vecs = np.linalg.eig(L)\n",
    "    idx = np.argsort(vals)\n",
    "    for i in range(len(idx)):\n",
    "        if vals[idx[i]] >= eps:\n",
    "            break\n",
    "    vecs = vecs.real[:,idx[i:]]\n",
    "    for i in range(vecs.shape[1]):\n",
    "        vecs[:,i] /= np.linalg.norm(vecs[:,i])\n",
    "    map1 = vecs[:d1,:num_dims]\n",
    "    map2 = vecs[d1:d1+d2,:num_dims]\n",
    "    return map1,map2\n",
    "\n",
    "def linear_decompose(X, Y, L, num_dims, eps):\n",
    "    Z = sp.linalg.block_diag(X.T,Y.T)\n",
    "    u,s,_ = np.linalg.svd(np.dot(Z,Z.T))\n",
    "    Fplus = np.linalg.pinv(np.dot(u,np.diag(np.sqrt(s))))\n",
    "    T = reduce(np.dot,(Fplus,Z,L,Z.T,Fplus.T))\n",
    "    L = 0.5*(T+T.T)\n",
    "    d1,d2 = X.shape[1],Y.shape[1]\n",
    "    return manifold_decompose(L,d1,d2,num_dims,eps,lambda v: np.dot(Fplus.T,v))\n",
    "    \n",
    "\n",
    "def nonLinearManifold(X, Y, Wxy, Wx, Wy, num_dims, mu = 0.9, eps = 1e-8):\n",
    "    L = manifold_setup(Wx, Wy, Wxy, mu)\n",
    "    return manifold_decompose(L, X.shape[0], Y.shape[0], num_dims, eps)\n",
    "\n",
    "def LinearManifold(X, Y, Wxy, Wx, Wy, num_dims, mu = 0.9, eps = 1e-8):\n",
    "    L = manifold_setup(Wx, Wy, Wxy, mu)\n",
    "    return linear_decompose(X, Y, L, num_dims, eps)"
   ]
  },
  {
   "cell_type": "code",
   "execution_count": 3,
   "metadata": {},
   "outputs": [],
   "source": [
    "rna_path = \"~/Documents/Single cell/data set/GSE126074/GSE126074_CellLineMixture_SNAREseq_cDNA_counts.tsv\"\n",
    "atac_path = \"~/Documents/Single cell/ATAC and expression/Integration/dta_gene_act.csv\"\n",
    "dta_rna = pd.read_table(rna_path)\n",
    "dta_atac = pd.read_csv(atac_path, index_col=0)\n",
    "gene_use = dta_rna.index.intersection(dta_atac.index)\n",
    "dta_rna_use = dta_rna.loc[gene_use]\n",
    "dta_atac_use = dta_atac.loc[gene_use]"
   ]
  },
  {
   "cell_type": "code",
   "execution_count": 4,
   "metadata": {},
   "outputs": [],
   "source": [
    "dta_rna_use_mat = dta_rna_use.to_numpy().T\n",
    "dta_atac_use_mat = dta_atac_use.to_numpy().T"
   ]
  },
  {
   "cell_type": "code",
   "execution_count": 5,
   "metadata": {},
   "outputs": [],
   "source": [
    "n_samples = dta_rna_use_mat.shape[0]\n",
    "Wxy = np.zeros((n_samples, n_samples))\n",
    "np.fill_diagonal(Wxy, 1)\n",
    "Wx = dta_rna_use.corr().to_numpy()\n",
    "Wy = dta_atac_use.corr().to_numpy()"
   ]
  },
  {
   "cell_type": "code",
   "execution_count": 8,
   "metadata": {},
   "outputs": [],
   "source": [
    "manifold_res = nonLinearManifold(dta_rna_use_mat, dta_atac_use_mat, Wxy, Wx, Wy, num_dims = 50)"
   ]
  },
  {
   "cell_type": "code",
   "execution_count": 16,
   "metadata": {},
   "outputs": [],
   "source": [
    "dta_rna_ali = pd.DataFrame(data = manifold_res[0], index = dta_rna_use.columns)\n",
    "dta_atac_ali = pd.DataFrame(data = manifold_res[1], index = dta_atac_use.columns)\n",
    "dta_rna_ali.to_csv(r'dta_rna_ali.csv')\n",
    "dta_atac_ali.to_csv(r'dta_atac_ali.csv')"
   ]
  },
  {
   "cell_type": "code",
   "execution_count": null,
   "metadata": {},
   "outputs": [],
   "source": []
  }
 ],
 "metadata": {
  "kernelspec": {
   "display_name": "Python 3",
   "language": "python",
   "name": "python3"
  },
  "language_info": {
   "codemirror_mode": {
    "name": "ipython",
    "version": 3
   },
   "file_extension": ".py",
   "mimetype": "text/x-python",
   "name": "python",
   "nbconvert_exporter": "python",
   "pygments_lexer": "ipython3",
   "version": "3.6.10"
  }
 },
 "nbformat": 4,
 "nbformat_minor": 4
}
